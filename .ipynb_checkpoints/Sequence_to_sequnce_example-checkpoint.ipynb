{
 "cells": [
  {
   "cell_type": "code",
   "execution_count": 13,
   "metadata": {
    "collapsed": false
   },
   "outputs": [],
   "source": [
    "from keras.models import Sequential\n",
    "import numpy as np\n",
    "from keras.layers import Dense\n",
    "from keras.layers import Dropout\n",
    "from keras.layers import LSTM\n",
    "from keras.layers.recurrent import SimpleRNN, GRU\n",
    "from keras.layers.core import TimeDistributedDense, Activation\n",
    "from keras.layers import TimeDistributed\n"
   ]
  },
  {
   "cell_type": "code",
   "execution_count": 2,
   "metadata": {
    "collapsed": true
   },
   "outputs": [],
   "source": [
    "n_in = 10\n",
    "n_hidden = 20\n",
    "n_samples = 500\n",
    "n_timesteps = 5\n",
    "X = np.random.random((n_samples, n_timesteps, n_in))"
   ]
  },
  {
   "cell_type": "code",
   "execution_count": 5,
   "metadata": {
    "collapsed": false
   },
   "outputs": [
    {
     "data": {
      "text/plain": [
       "(500, 5, 10)"
      ]
     },
     "execution_count": 5,
     "metadata": {},
     "output_type": "execute_result"
    }
   ],
   "source": [
    "X.shape"
   ]
  },
  {
   "cell_type": "code",
   "execution_count": 23,
   "metadata": {
    "collapsed": false
   },
   "outputs": [],
   "source": [
    "from keras.models import Sequential\n",
    "import numpy as np\n",
    "from keras.layers.recurrent import SimpleRNN, GRU, LSTM\n",
    "from keras.layers.core import TimeDistributedDense, Activation\n",
    "\n",
    "n_in = 684\n",
    "n_out = 684\n",
    "n_hidden = 512\n",
    "n_samples = 2297\n",
    "n_timesteps = 87\n",
    "\n",
    "X = np.random.random((n_samples, n_timesteps, n_in))\n",
    "Y = np.random.random((n_samples, n_timesteps, n_out))\n",
    "\n",
    "model = Sequential()\n",
    "model.add(LSTM(n_hidden, input_shape=(5, 10), return_sequences=True))\n",
    "model.add(TimeDistributed(Dense(2)))\n",
    "model.compile(loss='mse', optimizer='adam')\n",
    "\n",
    "X = np.random.random((n_samples, n_timesteps, n_in))\n",
    "\n",
    "Xp = model.predict(X)\n"
   ]
  },
  {
   "cell_type": "code",
   "execution_count": 24,
   "metadata": {
    "collapsed": false
   },
   "outputs": [
    {
     "name": "stdout",
     "output_type": "stream",
     "text": [
      "shape: (500, 5, 10)\n",
      "[[[ 0.2624646   0.2893838   0.28771178 ...,  0.32548458  0.75378574\n",
      "    0.22601774]\n",
      "  [ 0.01017231  0.79572603  0.45147351 ...,  0.92407329  0.43136097\n",
      "    0.72403535]\n",
      "  [ 0.22053152  0.8445857   0.36804161 ...,  0.79561018  0.69913784\n",
      "    0.46183416]\n",
      "  [ 0.9972138   0.03609349  0.26297469 ...,  0.22919231  0.16531924\n",
      "    0.95453506]\n",
      "  [ 0.00524674  0.83804593  0.48523374 ...,  0.33226844  0.75602458\n",
      "    0.76158534]]\n",
      "\n",
      " [[ 0.22945273  0.02392986  0.59187033 ...,  0.33707031  0.09886349\n",
      "    0.52319519]\n",
      "  [ 0.95601849  0.96743657  0.48798082 ...,  0.77126938  0.3099546\n",
      "    0.68422532]\n",
      "  [ 0.02990911  0.17937742  0.65375902 ...,  0.09426951  0.43252642\n",
      "    0.44962095]\n",
      "  [ 0.95516755  0.77475827  0.87490149 ...,  0.94175492  0.06530585\n",
      "    0.43934451]\n",
      "  [ 0.39100033  0.48699128  0.05502668 ...,  0.36907186  0.17113122\n",
      "    0.70914426]]\n",
      "\n",
      " [[ 0.67823866  0.12189193  0.22568905 ...,  0.96597322  0.96615831\n",
      "    0.19481146]\n",
      "  [ 0.41508669  0.5305131   0.12023537 ...,  0.34453523  0.59020937\n",
      "    0.35189034]\n",
      "  [ 0.89562933  0.04925554  0.75547014 ...,  0.66919599  0.03699137\n",
      "    0.09176902]\n",
      "  [ 0.43382124  0.4654646   0.56021226 ...,  0.25060687  0.06715444\n",
      "    0.24639464]\n",
      "  [ 0.00310062  0.11913955  0.95238258 ...,  0.79444331  0.88506102\n",
      "    0.56695402]]\n",
      "\n",
      " ..., \n",
      " [[ 0.40631105  0.79269176  0.54475326 ...,  0.73313286  0.15054073\n",
      "    0.40329826]\n",
      "  [ 0.80837161  0.58118493  0.95399102 ...,  0.45710389  0.07899638\n",
      "    0.80057171]\n",
      "  [ 0.34701012  0.22008142  0.00834027 ...,  0.00775672  0.22662661\n",
      "    0.89245002]\n",
      "  [ 0.73694161  0.85039343  0.80165998 ...,  0.81909994  0.88317215\n",
      "    0.98783727]\n",
      "  [ 0.37763307  0.89251248  0.29586695 ...,  0.46242613  0.22474707\n",
      "    0.03794883]]\n",
      "\n",
      " [[ 0.0270858   0.02160073  0.49369617 ...,  0.81194688  0.73952524\n",
      "    0.33314224]\n",
      "  [ 0.40559633  0.84035926  0.38785512 ...,  0.9638533   0.52886152\n",
      "    0.51280328]\n",
      "  [ 0.49665484  0.46475248  0.05392654 ...,  0.64744783  0.1776515\n",
      "    0.63216699]\n",
      "  [ 0.73291045  0.36244862  0.96295247 ...,  0.88889377  0.00901646\n",
      "    0.71089139]\n",
      "  [ 0.64545771  0.0596038   0.76066775 ...,  0.05564502  0.39895064\n",
      "    0.66688975]]\n",
      "\n",
      " [[ 0.64840116  0.19244426  0.37751621 ...,  0.41298845  0.8460755\n",
      "    0.3512755 ]\n",
      "  [ 0.54302445  0.85821485  0.24145101 ...,  0.35431535  0.22471602\n",
      "    0.2575014 ]\n",
      "  [ 0.40519736  0.28210593  0.46186145 ...,  0.44270875  0.61236872\n",
      "    0.46809243]\n",
      "  [ 0.12034292  0.41151035  0.35426558 ...,  0.11947303  0.71813502\n",
      "    0.12008391]\n",
      "  [ 0.95954017  0.10351049  0.61103807 ...,  0.43350506  0.64931211\n",
      "    0.59736575]]]\n"
     ]
    }
   ],
   "source": [
    "print(\"shape:\", X.shape)\n",
    "print(X)"
   ]
  },
  {
   "cell_type": "code",
   "execution_count": 25,
   "metadata": {
    "collapsed": false
   },
   "outputs": [
    {
     "name": "stdout",
     "output_type": "stream",
     "text": [
      "Shape:  (500, 5, 2)\n",
      "[[[ 0.08587992 -0.13565782]\n",
      "  [ 0.12714821 -0.23633339]\n",
      "  [ 0.17054325 -0.33670536]\n",
      "  [ 0.26939684 -0.42301813]\n",
      "  [ 0.35931543 -0.52966297]]\n",
      "\n",
      " [[ 0.0900019  -0.09997179]\n",
      "  [ 0.14938429 -0.26897985]\n",
      "  [ 0.18310586 -0.33200708]\n",
      "  [ 0.11309479 -0.50705278]\n",
      "  [ 0.16032542 -0.58682537]]\n",
      "\n",
      " [[ 0.06556759 -0.14306983]\n",
      "  [ 0.21505228 -0.26698154]\n",
      "  [ 0.21171828 -0.48084772]\n",
      "  [ 0.19300905 -0.52759266]\n",
      "  [ 0.22183265 -0.56419903]]\n",
      "\n",
      " ..., \n",
      " [[-0.00186614 -0.11821616]\n",
      "  [ 0.06648821 -0.20640214]\n",
      "  [ 0.16729003 -0.22701755]\n",
      "  [ 0.29437441 -0.42311665]\n",
      "  [ 0.11818425 -0.4971633 ]]\n",
      "\n",
      " [[ 0.09741727 -0.11812758]\n",
      "  [ 0.10487117 -0.17815258]\n",
      "  [ 0.15479018 -0.28669009]\n",
      "  [ 0.19346589 -0.45128   ]\n",
      "  [ 0.25535688 -0.53909266]]\n",
      "\n",
      " [[ 0.07801932 -0.1092316 ]\n",
      "  [ 0.05962006 -0.17716645]\n",
      "  [ 0.14341383 -0.28256738]\n",
      "  [ 0.19885848 -0.36122939]\n",
      "  [ 0.27723736 -0.53671873]]]\n"
     ]
    }
   ],
   "source": [
    "print('Shape: ', Xp.shape)\n",
    "print(Xp)\n",
    "\n"
   ]
  },
  {
   "cell_type": "code",
   "execution_count": 26,
   "metadata": {
    "collapsed": false
   },
   "outputs": [
    {
     "name": "stdout",
     "output_type": "stream",
     "text": [
      "Epoch 1/10\n",
      "500/500 [==============================] - 0s - loss: 0.0000e+00     \n",
      "Epoch 2/10\n",
      "500/500 [==============================] - 0s - loss: 0.0000e+00     \n",
      "Epoch 3/10\n",
      "500/500 [==============================] - 0s - loss: 0.0000e+00     \n",
      "Epoch 4/10\n",
      "500/500 [==============================] - 0s - loss: 0.0000e+00     \n",
      "Epoch 5/10\n",
      "500/500 [==============================] - 0s - loss: 0.0000e+00     \n",
      "Epoch 6/10\n",
      "500/500 [==============================] - 0s - loss: 0.0000e+00     \n",
      "Epoch 7/10\n",
      "500/500 [==============================] - 0s - loss: 0.0000e+00     \n",
      "Epoch 8/10\n",
      "500/500 [==============================] - 0s - loss: 0.0000e+00     \n",
      "Epoch 9/10\n",
      "500/500 [==============================] - 0s - loss: 0.0000e+00     \n",
      "Epoch 10/10\n",
      "500/500 [==============================] - 0s - loss: 0.0000e+00     \n"
     ]
    },
    {
     "data": {
      "text/plain": [
       "<keras.callbacks.History at 0x117538978>"
      ]
     },
     "execution_count": 26,
     "metadata": {},
     "output_type": "execute_result"
    }
   ],
   "source": [
    "\n",
    "model.fit(X, Xp)"
   ]
  },
  {
   "cell_type": "code",
   "execution_count": 37,
   "metadata": {
    "collapsed": false
   },
   "outputs": [
    {
     "ename": "SyntaxError",
     "evalue": "Missing parentheses in call to 'print' (<ipython-input-37-bc621bf8b223>, line 4)",
     "output_type": "error",
     "traceback": [
      "\u001b[0;36m  File \u001b[0;32m\"<ipython-input-37-bc621bf8b223>\"\u001b[0;36m, line \u001b[0;32m4\u001b[0m\n\u001b[0;31m    print Xp.shape\u001b[0m\n\u001b[0m           ^\u001b[0m\n\u001b[0;31mSyntaxError\u001b[0m\u001b[0;31m:\u001b[0m Missing parentheses in call to 'print'\n"
     ]
    }
   ],
   "source": [
    "\n",
    "\n",
    "Xp = model._predict(X)\n",
    "print Xp.shape\n",
    "\n",
    "# model.fit(X, Xp)"
   ]
  },
  {
   "cell_type": "code",
   "execution_count": null,
   "metadata": {
    "collapsed": true
   },
   "outputs": [],
   "source": []
  }
 ],
 "metadata": {
  "anaconda-cloud": {},
  "kernelspec": {
   "display_name": "Python [conda env:tensorflow2]",
   "language": "python",
   "name": "conda-env-tensorflow2-py"
  },
  "language_info": {
   "codemirror_mode": {
    "name": "ipython",
    "version": 3
   },
   "file_extension": ".py",
   "mimetype": "text/x-python",
   "name": "python",
   "nbconvert_exporter": "python",
   "pygments_lexer": "ipython3",
   "version": "3.5.2"
  }
 },
 "nbformat": 4,
 "nbformat_minor": 1
}
